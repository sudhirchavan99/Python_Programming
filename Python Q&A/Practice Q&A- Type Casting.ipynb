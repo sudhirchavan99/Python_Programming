{
 "cells": [
  {
   "cell_type": "code",
   "execution_count": 1,
   "id": "c22420ed-8c36-4973-a70c-ec7423d889e4",
   "metadata": {},
   "outputs": [
    {
     "name": "stdout",
     "output_type": "stream",
     "text": [
      "Result is: 30\n"
     ]
    }
   ],
   "source": [
    "# Q.1. Convert a string “25” into an integer and add 5.\n",
    "a = int(\"25\")\n",
    "print(\"Result is:\", a+5)"
   ]
  },
  {
   "cell_type": "code",
   "execution_count": 2,
   "id": "18adb8b0-ba99-439f-bcad-488f1921e6be",
   "metadata": {},
   "outputs": [
    {
     "name": "stdout",
     "output_type": "stream",
     "text": [
      "The result is 3\n",
      "<class 'int'>\n"
     ]
    }
   ],
   "source": [
    "# Q.2. Convert 3.99 into an integer and print the result.\n",
    "result = int(3.99)\n",
    "print(\"The result is\",result)\n",
    "print(type(result))"
   ]
  },
  {
   "cell_type": "code",
   "execution_count": 3,
   "id": "b9410965-2d82-45d6-a664-bcfbd24163bc",
   "metadata": {},
   "outputs": [
    {
     "name": "stdout",
     "output_type": "stream",
     "text": [
      "<class 'str'>\n"
     ]
    }
   ],
   "source": [
    "# Q.3. Convert the number 10 into a string and print its type.\n",
    "num = str(10)\n",
    "print(type(num))"
   ]
  },
  {
   "cell_type": "code",
   "execution_count": 4,
   "id": "15e20d6c-182a-4841-86db-1161d49383c2",
   "metadata": {},
   "outputs": [
    {
     "name": "stdout",
     "output_type": "stream",
     "text": [
      "7.0\n",
      "<class 'float'>\n"
     ]
    }
   ],
   "source": [
    "# Q.4. Convert the integer 7 into a float.\n",
    "a = float(7)\n",
    "print(a)\n",
    "print(type(a))"
   ]
  },
  {
   "cell_type": "code",
   "execution_count": 5,
   "id": "57252173-4908-4a80-8548-9544a664d87a",
   "metadata": {},
   "outputs": [
    {
     "name": "stdin",
     "output_type": "stream",
     "text": [
      "Enter Your Number:  25\n"
     ]
    },
    {
     "name": "stdout",
     "output_type": "stream",
     "text": [
      "35\n"
     ]
    }
   ],
   "source": [
    "# Q.5. Take a number as string input and add 10 to it after type casting.\n",
    "number = input(\"Enter Your Number: \")\n",
    "print(int(number)+10)"
   ]
  },
  {
   "cell_type": "code",
   "execution_count": 6,
   "id": "d998c1b8-a4bc-4914-8072-d8135857fe63",
   "metadata": {},
   "outputs": [
    {
     "name": "stdout",
     "output_type": "stream",
     "text": [
      "1\n",
      "<class 'int'>\n"
     ]
    }
   ],
   "source": [
    "# Q.6. Convert True into an integer\n",
    "a = int(True)\n",
    "print(a)\n",
    "print(type(a))"
   ]
  },
  {
   "cell_type": "code",
   "execution_count": 7,
   "id": "b603fb7b-797e-465e-b766-0739d1879c03",
   "metadata": {},
   "outputs": [
    {
     "name": "stdout",
     "output_type": "stream",
     "text": [
      "False\n",
      "<class 'bool'>\n"
     ]
    }
   ],
   "source": [
    "# Q.7. Convert 0 into a boolean.\n",
    "a = bool(0)\n",
    "print(a)\n",
    "print(type(a))"
   ]
  },
  {
   "cell_type": "code",
   "execution_count": 8,
   "id": "306f3a8d-9700-4e13-ae46-9cdb183211a1",
   "metadata": {},
   "outputs": [
    {
     "name": "stdout",
     "output_type": "stream",
     "text": [
      "45kg\n"
     ]
    }
   ],
   "source": [
    "# Q.8. Convert 45 into a string and concatenate it with “kg”.\n",
    "a = str(45)\n",
    "print(a + \"kg\")"
   ]
  },
  {
   "cell_type": "code",
   "execution_count": 9,
   "id": "06c30477-9041-43ce-91d5-0ef32cdb38a2",
   "metadata": {},
   "outputs": [
    {
     "name": "stdout",
     "output_type": "stream",
     "text": [
      "The value is 5.75\n"
     ]
    }
   ],
   "source": [
    "# Q.9. Convert 5.75 into a string and print “The value is X”.\n",
    "x = str(5.75)\n",
    "print(\"The value is\", x)"
   ]
  },
  {
   "cell_type": "code",
   "execution_count": 10,
   "id": "57bc1159-2956-49e2-9a32-8ffc41d641dc",
   "metadata": {},
   "outputs": [
    {
     "name": "stdout",
     "output_type": "stream",
     "text": [
      "100.5\n",
      "<class 'float'>\n"
     ]
    }
   ],
   "source": [
    "# Q.10. Convert the string “100.5” into a float and print it.\n",
    "x = float(\"100.5\")\n",
    "print(x)\n",
    "print(type(x))"
   ]
  },
  {
   "cell_type": "code",
   "execution_count": null,
   "id": "424398c8-a3cd-4b0c-9fc6-0b12d1223e20",
   "metadata": {},
   "outputs": [],
   "source": []
  }
 ],
 "metadata": {
  "kernelspec": {
   "display_name": "Python 3 (ipykernel)",
   "language": "python",
   "name": "python3"
  },
  "language_info": {
   "codemirror_mode": {
    "name": "ipython",
    "version": 3
   },
   "file_extension": ".py",
   "mimetype": "text/x-python",
   "name": "python",
   "nbconvert_exporter": "python",
   "pygments_lexer": "ipython3",
   "version": "3.12.7"
  }
 },
 "nbformat": 4,
 "nbformat_minor": 5
}
