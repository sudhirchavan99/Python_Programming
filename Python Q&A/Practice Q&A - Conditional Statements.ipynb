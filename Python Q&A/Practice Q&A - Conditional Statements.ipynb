{
 "cells": [
  {
   "cell_type": "code",
   "execution_count": 1,
   "id": "f0710672",
   "metadata": {},
   "outputs": [
    {
     "name": "stdin",
     "output_type": "stream",
     "text": [
      "Enter a Number:  10\n"
     ]
    },
    {
     "name": "stdout",
     "output_type": "stream",
     "text": [
      "The number is Positive\n"
     ]
    }
   ],
   "source": [
    "# Q.1. Check if a number is positive.\n",
    "num = int(input(\"Enter a Number: \"))\n",
    "\n",
    "if num >= 0:\n",
    "    print(\"The number is Positive\")\n",
    "else:\n",
    "    print(\"The number is Negative\")"
   ]
  },
  {
   "cell_type": "code",
   "execution_count": 2,
   "id": "e837766e-ad12-4640-a5e4-ee08c49457fc",
   "metadata": {},
   "outputs": [
    {
     "name": "stdin",
     "output_type": "stream",
     "text": [
      "Enter a Number:  25\n"
     ]
    },
    {
     "name": "stdout",
     "output_type": "stream",
     "text": [
      "The number is odd\n"
     ]
    }
   ],
   "source": [
    "# Q.2. Check if a number is even or odd.\n",
    "num = int(input(\"Enter a Number: \"))\n",
    "\n",
    "if num % 2 == 0:\n",
    "    print(\"The number is even\")\n",
    "else:\n",
    "    print(\"The number is odd\")"
   ]
  },
  {
   "cell_type": "code",
   "execution_count": 3,
   "id": "d7d75cb4-fdf0-49b6-bcc2-e023d3e89582",
   "metadata": {},
   "outputs": [
    {
     "name": "stdin",
     "output_type": "stream",
     "text": [
      "Enter Your age:  19\n"
     ]
    },
    {
     "name": "stdout",
     "output_type": "stream",
     "text": [
      "You are eligible to vote.\n"
     ]
    }
   ],
   "source": [
    "# Q.3. Input age and check if eligible to vote.\n",
    "age = int(input(\"Enter Your age: \"))\n",
    "\n",
    "if age >= 18:\n",
    "    print(\"You are eligible to vote.\")\n",
    "else:\n",
    "    print(\"You are not eligible to vote.\")"
   ]
  },
  {
   "cell_type": "code",
   "execution_count": 4,
   "id": "b96a088d-3866-479d-9eb0-b79596f945d3",
   "metadata": {},
   "outputs": [
    {
     "name": "stdin",
     "output_type": "stream",
     "text": [
      "Enter Your marks:  40\n"
     ]
    },
    {
     "name": "stdout",
     "output_type": "stream",
     "text": [
      "You are Pass\n"
     ]
    }
   ],
   "source": [
    "# Q.4. Input marks and print “Pass” if ≥ 40 else “Fail”.\n",
    "marks = int(input(\"Enter Your marks: \"))\n",
    "\n",
    "if marks >= 40 and marks <= 100:\n",
    "    print(\"You are Pass\")\n",
    "elif marks > 100:\n",
    "    print(\"The entered marks are invalid\")\n",
    "else:\n",
    "    print(\"You are Fail\")"
   ]
  },
  {
   "cell_type": "code",
   "execution_count": 5,
   "id": "669ce554-046e-46f8-ba45-79a9d208a890",
   "metadata": {},
   "outputs": [
    {
     "name": "stdin",
     "output_type": "stream",
     "text": [
      "Enter a Number:  75\n"
     ]
    },
    {
     "name": "stdout",
     "output_type": "stream",
     "text": [
      "The number is divisible by 5\n"
     ]
    }
   ],
   "source": [
    "# Q.5. Check if a number is divisible by 5.\n",
    "num = int(input(\"Enter a Number: \"))\n",
    "\n",
    "if num % 5 == 0:\n",
    "    print(\"The number is divisible by 5\")\n",
    "else:\n",
    "    print(\"The number is not divisible by 5\")"
   ]
  },
  {
   "cell_type": "code",
   "execution_count": 6,
   "id": "5f6a7c9b-d2ac-4a6c-8792-755b50652904",
   "metadata": {},
   "outputs": [
    {
     "name": "stdin",
     "output_type": "stream",
     "text": [
      "Enter a Number:  25\n"
     ]
    },
    {
     "name": "stdout",
     "output_type": "stream",
     "text": [
      "The number is Positive\n"
     ]
    }
   ],
   "source": [
    "# Q.6. Check if a number is positive, negative, or zero\n",
    "num = int(input(\"Enter a Number: \"))\n",
    "\n",
    "if num > 0:\n",
    "    print(\"The number is Positive\")\n",
    "elif num < 0:\n",
    "    print(\"The number is Negative\")\n",
    "else:\n",
    "    print(\"The number is Zero\")"
   ]
  },
  {
   "cell_type": "code",
   "execution_count": 7,
   "id": "ed5e2def-a864-433d-88f1-eb5cf6bf5d60",
   "metadata": {},
   "outputs": [
    {
     "name": "stdin",
     "output_type": "stream",
     "text": [
      "Enter a Number:  115\n"
     ]
    },
    {
     "name": "stdout",
     "output_type": "stream",
     "text": [
      "The number is greater than 100.\n"
     ]
    }
   ],
   "source": [
    "# Q.7. Input a number and check if it is greater than 100.\n",
    "num = int(input(\"Enter a Number: \"))\n",
    "\n",
    "if num > 100:\n",
    "    print(\"The number is greater than 100.\")\n",
    "elif num == 100:\n",
    "    print(\"The number is equal to 100.\")\n",
    "else:\n",
    "    print(\"The number is less than 100.\")"
   ]
  },
  {
   "cell_type": "code",
   "execution_count": 8,
   "id": "924a3983-01c4-40d2-be88-37b29e421e15",
   "metadata": {},
   "outputs": [
    {
     "name": "stdin",
     "output_type": "stream",
     "text": [
      "Enter first number:  35\n",
      "Enter second number:  34\n",
      "Enter third number:  36\n"
     ]
    },
    {
     "name": "stdout",
     "output_type": "stream",
     "text": [
      "The largest number is: 36\n"
     ]
    }
   ],
   "source": [
    "# Q.8. Input three numbers and find the largest.\n",
    "num1 = int(input(\"Enter first number: \"))\n",
    "num2 = int(input(\"Enter second number: \"))\n",
    "num3 = int(input(\"Enter third number: \"))\n",
    "\n",
    "if num1 > num2 and num1 > num3:\n",
    "    print(\"The largest number is:\", num1)\n",
    "elif num2 > num1 and num2 > num3:\n",
    "    print(\"The largest number is:\", num2)\n",
    "elif num3 > num1 and num3 > num2:\n",
    "    print(\"The largest number is:\", num3)\n",
    "elif num1 == num2 == num3:\n",
    "    print(\"All three numbers are equal.\")\n",
    "else:\n",
    "    print(\"Two numbers are equal and largest.\")"
   ]
  },
  {
   "cell_type": "code",
   "execution_count": 9,
   "id": "675d27fe-9bfd-4a9a-9e5b-0bfdd5b9d0b5",
   "metadata": {},
   "outputs": [
    {
     "name": "stdin",
     "output_type": "stream",
     "text": [
      "Enter a year:  2024\n"
     ]
    },
    {
     "name": "stdout",
     "output_type": "stream",
     "text": [
      "2024 is a Leap Year\n"
     ]
    }
   ],
   "source": [
    "# Q.9. Check if a year is a leap year.\n",
    "year = int(input(\"Enter a year: \"))\n",
    "\n",
    "if (year % 400 == 0):\n",
    "    print(year, \"is a Leap Year\")\n",
    "elif (year % 100 == 0):\n",
    "    print(year, \"is NOT a Leap Year\")\n",
    "elif (year % 4 == 0):\n",
    "    print(year, \"is a Leap Year\")\n",
    "else:\n",
    "    print(year, \"is NOT a Leap Year\")"
   ]
  },
  {
   "cell_type": "code",
   "execution_count": 10,
   "id": "215644ee-8119-49ed-bcfd-5e74224916dc",
   "metadata": {},
   "outputs": [
    {
     "name": "stdin",
     "output_type": "stream",
     "text": [
      "Enter a character:  o\n"
     ]
    },
    {
     "name": "stdout",
     "output_type": "stream",
     "text": [
      "o is a Vowel\n"
     ]
    }
   ],
   "source": [
    "# Q.10. Check if a character is a vowel or consonant.\n",
    "char = input(\"Enter a character: \")\n",
    "\n",
    "if len(char) == 1 and char.isalpha():\n",
    "    if char.lower() in ['a', 'e', 'i', 'o', 'u']:\n",
    "        print(char, \"is a Vowel\")\n",
    "    else:\n",
    "        print(char, \"is a Consonant\")\n",
    "else:\n",
    "    print(\"Please enter a single alphabet character only!\")"
   ]
  }
 ],
 "metadata": {
  "kernelspec": {
   "display_name": "Python 3 (ipykernel)",
   "language": "python",
   "name": "python3"
  },
  "language_info": {
   "codemirror_mode": {
    "name": "ipython",
    "version": 3
   },
   "file_extension": ".py",
   "mimetype": "text/x-python",
   "name": "python",
   "nbconvert_exporter": "python",
   "pygments_lexer": "ipython3",
   "version": "3.12.7"
  }
 },
 "nbformat": 4,
 "nbformat_minor": 5
}
