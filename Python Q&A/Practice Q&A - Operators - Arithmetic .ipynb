{
 "cells": [
  {
   "cell_type": "code",
   "execution_count": 1,
   "id": "faf174f5-e3e0-4025-914f-d75089c088b2",
   "metadata": {},
   "outputs": [
    {
     "name": "stdout",
     "output_type": "stream",
     "text": [
      "The result of a+b = 27\n"
     ]
    }
   ],
   "source": [
    "# Q.1. Add two numbers and print the result.\n",
    "a = 15\n",
    "b = 12\n",
    "\n",
    "print(\"The result of a+b =\",a+b)"
   ]
  },
  {
   "cell_type": "code",
   "execution_count": 2,
   "id": "bb304485-2263-402a-898e-7fd3c710bcb4",
   "metadata": {},
   "outputs": [
    {
     "name": "stdout",
     "output_type": "stream",
     "text": [
      "The result of a-b = 3\n"
     ]
    }
   ],
   "source": [
    "# Q.2. Subtract two numbers and print the result.\n",
    "a = 15\n",
    "b = 12\n",
    "\n",
    "print(\"The result of a-b =\",a-b)"
   ]
  },
  {
   "cell_type": "code",
   "execution_count": 3,
   "id": "f75e7629-9eff-46c0-8cb8-06871f725d01",
   "metadata": {},
   "outputs": [
    {
     "name": "stdout",
     "output_type": "stream",
     "text": [
      "The result of a*b = 180\n"
     ]
    }
   ],
   "source": [
    "# Q.3. Multiply two numbers and print the result.\n",
    "a = 15\n",
    "b = 12\n",
    "\n",
    "print(\"The result of a*b =\",a*b)"
   ]
  },
  {
   "cell_type": "code",
   "execution_count": 4,
   "id": "900b8a75-8359-43a1-aac4-605588a8482c",
   "metadata": {},
   "outputs": [
    {
     "name": "stdout",
     "output_type": "stream",
     "text": [
      "The result of a/b = 3.0\n"
     ]
    }
   ],
   "source": [
    "# Q.4. Divide two numbers and print the result.\n",
    "a = 15\n",
    "b = 5\n",
    "\n",
    "print(\"The result of a/b =\",a/b)"
   ]
  },
  {
   "cell_type": "code",
   "execution_count": 5,
   "id": "c0af47af-4a54-4c20-a0e3-c5867ba132d5",
   "metadata": {},
   "outputs": [
    {
     "name": "stdout",
     "output_type": "stream",
     "text": [
      "The remainder is:  3\n"
     ]
    }
   ],
   "source": [
    "# Q.5. Find the remainder when 15 is divided by 4.\n",
    "print(\"The remainder is: \", 15%4)"
   ]
  },
  {
   "cell_type": "code",
   "execution_count": 6,
   "id": "8a3f2478-8b38-47b6-ae56-2556f1b46346",
   "metadata": {},
   "outputs": [
    {
     "name": "stdout",
     "output_type": "stream",
     "text": [
      "Result of 2 ** 5 = 32\n"
     ]
    }
   ],
   "source": [
    "# Q.6. Find the result of 2 ** 5.\n",
    "print(\"Result of 2 ** 5 =\", 2**5)"
   ]
  },
  {
   "cell_type": "code",
   "execution_count": 7,
   "id": "657670a8-81c0-4648-bcc7-6f87b4817ae9",
   "metadata": {},
   "outputs": [
    {
     "name": "stdout",
     "output_type": "stream",
     "text": [
      "The floor division result of 17 // 3 = 5\n"
     ]
    }
   ],
   "source": [
    "# Q.7. Find the floor division result of 17 // 3.\n",
    "print(\"The floor division result of 17 // 3 =\", 17 // 3)"
   ]
  },
  {
   "cell_type": "code",
   "execution_count": 8,
   "id": "b99316bb-bfc4-4f6a-a4f1-2c51b71b4b68",
   "metadata": {},
   "outputs": [
    {
     "name": "stdout",
     "output_type": "stream",
     "text": [
      "(10+5)*2 = 30\n"
     ]
    }
   ],
   "source": [
    "# Q.8. Calculate (10 + 5) * 2.\n",
    "print(\"(10+5)*2 =\", (10+5)*2)"
   ]
  },
  {
   "cell_type": "code",
   "execution_count": 9,
   "id": "66012c83-259f-4154-949f-10ff9b10db14",
   "metadata": {},
   "outputs": [
    {
     "name": "stdout",
     "output_type": "stream",
     "text": [
      "(50-20)/5 = 6.0\n"
     ]
    }
   ],
   "source": [
    "# Q.9. Calculate (50 - 20) / 5.\n",
    "print(\"(50-20)/5 =\", (50-20)/5)"
   ]
  },
  {
   "cell_type": "code",
   "execution_count": 10,
   "id": "d2e73b0d-0728-47b6-b709-9295ad92e048",
   "metadata": {},
   "outputs": [
    {
     "name": "stdin",
     "output_type": "stream",
     "text": [
      "Enter a number:  5\n"
     ]
    },
    {
     "name": "stdout",
     "output_type": "stream",
     "text": [
      "The square of your number is =  25\n"
     ]
    }
   ],
   "source": [
    "# Q.10. Find the square of a number using **.\n",
    "a = int(input(\"Enter a number: \"))\n",
    "print(\"The square of your number is = \", a ** 2)"
   ]
  },
  {
   "cell_type": "code",
   "execution_count": null,
   "id": "c56e120c-c512-4abe-93cb-4dc83b07ef58",
   "metadata": {},
   "outputs": [],
   "source": []
  }
 ],
 "metadata": {
  "kernelspec": {
   "display_name": "Python 3 (ipykernel)",
   "language": "python",
   "name": "python3"
  },
  "language_info": {
   "codemirror_mode": {
    "name": "ipython",
    "version": 3
   },
   "file_extension": ".py",
   "mimetype": "text/x-python",
   "name": "python",
   "nbconvert_exporter": "python",
   "pygments_lexer": "ipython3",
   "version": "3.12.7"
  }
 },
 "nbformat": 4,
 "nbformat_minor": 5
}
