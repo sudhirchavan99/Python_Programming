{
 "cells": [
  {
   "cell_type": "code",
   "execution_count": 1,
   "id": "f1514de6-bd0d-4e79-819f-eed0f09ad004",
   "metadata": {},
   "outputs": [
    {
     "name": "stdout",
     "output_type": "stream",
     "text": [
      "My Name is Sudhir\n"
     ]
    }
   ],
   "source": [
    "# Q.1.Create a variable to store your name and print it.\n",
    "x = \"Sudhir\"\n",
    "print(\"My Name is\", x)"
   ]
  },
  {
   "cell_type": "code",
   "execution_count": 2,
   "id": "d56b8900-8a09-4c7f-b155-8eb43d22ac52",
   "metadata": {},
   "outputs": [
    {
     "name": "stdout",
     "output_type": "stream",
     "text": [
      "My age is 31\n"
     ]
    }
   ],
   "source": [
    "# Q.2. Store your age in a variable and print it\n",
    "age = 31\n",
    "print(\"My age is\", age)"
   ]
  },
  {
   "cell_type": "code",
   "execution_count": 3,
   "id": "d17ad5f6-524d-4866-8006-aba04e10d5a8",
   "metadata": {},
   "outputs": [
    {
     "name": "stdout",
     "output_type": "stream",
     "text": [
      "<class 'float'>\n"
     ]
    }
   ],
   "source": [
    "# Q.3. Assign a float value (e.g. 3.14) to a variable and print its type.\n",
    "x = 3.14\n",
    "print(type(x))"
   ]
  },
  {
   "cell_type": "code",
   "execution_count": 4,
   "id": "c2b7a635-3f0d-4013-ab4f-c11ea615a7f1",
   "metadata": {},
   "outputs": [
    {
     "name": "stdout",
     "output_type": "stream",
     "text": [
      "True\n",
      "<class 'bool'>\n"
     ]
    }
   ],
   "source": [
    "# Q.4. Assign a boolean value (True or False) to a variable and print it.\n",
    "a = True\n",
    "print(a)\n",
    "print(type(a))"
   ]
  },
  {
   "cell_type": "code",
   "execution_count": 5,
   "id": "4ccf3273-d8ff-4a64-b816-ce79e8bfc5d5",
   "metadata": {},
   "outputs": [
    {
     "name": "stdout",
     "output_type": "stream",
     "text": [
      "a = 10 b = 5\n"
     ]
    }
   ],
   "source": [
    "# Q.5. Swap the values of Two variables.\n",
    "a = 5\n",
    "b = 10\n",
    "temp = a\n",
    "a = b\n",
    "b = temp\n",
    "print (\"a =\",a,\"b =\",b)"
   ]
  },
  {
   "cell_type": "code",
   "execution_count": 8,
   "id": "d5d30b8f-09c4-4dcf-899c-131df1627e87",
   "metadata": {},
   "outputs": [
    {
     "name": "stdout",
     "output_type": "stream",
     "text": [
      "My height in meter is 1.73\n"
     ]
    }
   ],
   "source": [
    "# Q.6. Store your height in meters in a variable and print it.\n",
    "height = 1.73\n",
    "print(\"My height in meter is\", height)"
   ]
  },
  {
   "cell_type": "code",
   "execution_count": 9,
   "id": "3b122c30-76e2-4eae-ad87-5c854d7720a4",
   "metadata": {},
   "outputs": [
    {
     "name": "stdout",
     "output_type": "stream",
     "text": [
      "Mumbai Maharashtra India\n"
     ]
    }
   ],
   "source": [
    "# Q.7. Create three variables: city, state, and country, and print them in one line.\n",
    "city = \"Mumbai\"\n",
    "state = \"Maharashtra\"\n",
    "country = \"India\"\n",
    "print(city, state, country)"
   ]
  },
  {
   "cell_type": "code",
   "execution_count": 11,
   "id": "9bf2398c-e332-4453-9538-0deabc81e54e",
   "metadata": {},
   "outputs": [
    {
     "name": "stdout",
     "output_type": "stream",
     "text": [
      "The result is 15\n"
     ]
    }
   ],
   "source": [
    "# Q.8. Assign the result of 5+10 to a variable and print it.\n",
    "result = 5+10\n",
    "print(\"The result is\", result)"
   ]
  },
  {
   "cell_type": "code",
   "execution_count": 12,
   "id": "551d8239-ecaa-42e6-b203-d0b06dfea3dc",
   "metadata": {},
   "outputs": [
    {
     "name": "stdout",
     "output_type": "stream",
     "text": [
      "My favorite number is 5\n"
     ]
    }
   ],
   "source": [
    "# Q.9. Assign your favorite number to a variable and print \"My favorite number is X\".\n",
    "a = 5\n",
    "print(\"My favorite number is\", a)"
   ]
  },
  {
   "cell_type": "code",
   "execution_count": 13,
   "id": "2c8e65ea-764c-42a8-9b45-de9af247a531",
   "metadata": {},
   "outputs": [
    {
     "name": "stdout",
     "output_type": "stream",
     "text": [
      "My Phone Number is 7977009015\n",
      "<class 'str'>\n"
     ]
    }
   ],
   "source": [
    "# Q.10. Store your phone number as a string and print its type.\n",
    "My_Phone_Number = \"7977009015\"\n",
    "print(\"My Phone Number is\", My_Phone_Number)\n",
    "print(type(My_Phone_Number))"
   ]
  }
 ],
 "metadata": {
  "kernelspec": {
   "display_name": "Python 3 (ipykernel)",
   "language": "python",
   "name": "python3"
  },
  "language_info": {
   "codemirror_mode": {
    "name": "ipython",
    "version": 3
   },
   "file_extension": ".py",
   "mimetype": "text/x-python",
   "name": "python",
   "nbconvert_exporter": "python",
   "pygments_lexer": "ipython3",
   "version": "3.12.7"
  }
 },
 "nbformat": 4,
 "nbformat_minor": 5
}
