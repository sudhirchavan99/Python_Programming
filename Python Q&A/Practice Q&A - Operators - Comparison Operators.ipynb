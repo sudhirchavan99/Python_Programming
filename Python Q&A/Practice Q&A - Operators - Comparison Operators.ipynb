{
 "cells": [
  {
   "cell_type": "code",
   "execution_count": 1,
   "id": "593425aa-e802-415c-9622-d3ca46a2371b",
   "metadata": {},
   "outputs": [
    {
     "name": "stdout",
     "output_type": "stream",
     "text": [
      "True\n"
     ]
    }
   ],
   "source": [
    "# Q.1. Check if 10 > 5.\n",
    "print(10>5)"
   ]
  },
  {
   "cell_type": "code",
   "execution_count": 2,
   "id": "e85faa61-85c6-4efe-bb7d-c9c3f92d477e",
   "metadata": {},
   "outputs": [
    {
     "name": "stdout",
     "output_type": "stream",
     "text": [
      "False\n"
     ]
    }
   ],
   "source": [
    "# Q.2. Check if 15 < 7.\n",
    "print(15<7)"
   ]
  },
  {
   "cell_type": "code",
   "execution_count": 3,
   "id": "687ee253-f7ed-453e-b230-ed8559270230",
   "metadata": {},
   "outputs": [
    {
     "name": "stdout",
     "output_type": "stream",
     "text": [
      "True\n"
     ]
    }
   ],
   "source": [
    "# Q.3. Check if 20 == 20.\n",
    "print(20 == 20)"
   ]
  },
  {
   "cell_type": "code",
   "execution_count": 4,
   "id": "d523a5f8-7e4e-495f-ae4d-d7ed809a385e",
   "metadata": {},
   "outputs": [
    {
     "name": "stdout",
     "output_type": "stream",
     "text": [
      "True\n"
     ]
    }
   ],
   "source": [
    "# Q.4. Check if 30 != 25.\n",
    "print(30 != 25)"
   ]
  },
  {
   "cell_type": "code",
   "execution_count": 5,
   "id": "4f410ed7-7524-42c9-b0ac-2171081b84d6",
   "metadata": {},
   "outputs": [
    {
     "name": "stdout",
     "output_type": "stream",
     "text": [
      "True\n"
     ]
    }
   ],
   "source": [
    "# Q.5. Check if 40 >= 40.\n",
    "print(40 >= 40)"
   ]
  },
  {
   "cell_type": "code",
   "execution_count": 6,
   "id": "f414cc7d-dfa8-4911-8c06-82adc6469da0",
   "metadata": {},
   "outputs": [
    {
     "name": "stdout",
     "output_type": "stream",
     "text": [
      "False\n"
     ]
    }
   ],
   "source": [
    "# Q.6. Check if 50 <= 45.\n",
    "print(50 <= 45)"
   ]
  },
  {
   "cell_type": "code",
   "execution_count": 8,
   "id": "92cda14a-2c5f-4145-a37c-86aa6871bf30",
   "metadata": {},
   "outputs": [
    {
     "name": "stdin",
     "output_type": "stream",
     "text": [
      "Enter first number:  20\n",
      "Enter second number:  35\n"
     ]
    },
    {
     "name": "stdout",
     "output_type": "stream",
     "text": [
      "The first number is less than Second number\n"
     ]
    }
   ],
   "source": [
    "# Q.7. Compare two numbers input by the user.\n",
    "num1 = int(input(\"Enter first number: \"))\n",
    "num2 = int(input(\"Enter second number: \"))\n",
    "\n",
    "if num1 > num2:\n",
    "    print(\"The first number is greater than second number\")\n",
    "elif num1 < num2:\n",
    "    print(\"The first number is less than Second number\")\n",
    "else:\n",
    "    print(\"The first number is equal to second number\")"
   ]
  },
  {
   "cell_type": "code",
   "execution_count": 9,
   "id": "a84fecba-b521-4e7e-94cd-ad831fb56472",
   "metadata": {},
   "outputs": [
    {
     "name": "stdout",
     "output_type": "stream",
     "text": [
      "True\n",
      "False\n",
      "True\n",
      "False\n"
     ]
    }
   ],
   "source": [
    "# Q.8. Compare 100 and 200.\n",
    "print(100<200)\n",
    "print(100>200)\n",
    "print(100!=200)\n",
    "print(100==200)"
   ]
  },
  {
   "cell_type": "code",
   "execution_count": 10,
   "id": "31d11f4f-8d00-44a9-9ede-0f0d0639ab0e",
   "metadata": {},
   "outputs": [
    {
     "name": "stdout",
     "output_type": "stream",
     "text": [
      "True\n"
     ]
    }
   ],
   "source": [
    "# Q.9. Check if 7 is equal to 7.0.\n",
    "print(7==7.0)"
   ]
  },
  {
   "cell_type": "code",
   "execution_count": 11,
   "id": "6b282c47-c498-4d8d-8a31-d988731f223b",
   "metadata": {},
   "outputs": [
    {
     "name": "stdin",
     "output_type": "stream",
     "text": [
      "Enter first input:  10\n",
      "Enter second input:  12\n"
     ]
    },
    {
     "name": "stdout",
     "output_type": "stream",
     "text": [
      "The first and second input are not equal\n"
     ]
    }
   ],
   "source": [
    "# Q.10. Check if two inputs are not equal.\n",
    "num1 = float(input(\"Enter first input: \"))\n",
    "num2 = float(input(\"Enter second input: \"))\n",
    "\n",
    "if num1 == num2:\n",
    "    print(\"The first and second input are equal\")\n",
    "else:\n",
    "    print(\"The first and second input are not equal\")"
   ]
  },
  {
   "cell_type": "code",
   "execution_count": null,
   "id": "6c9fe46d-d25b-4000-8450-b6302c265689",
   "metadata": {},
   "outputs": [],
   "source": []
  }
 ],
 "metadata": {
  "kernelspec": {
   "display_name": "Python 3 (ipykernel)",
   "language": "python",
   "name": "python3"
  },
  "language_info": {
   "codemirror_mode": {
    "name": "ipython",
    "version": 3
   },
   "file_extension": ".py",
   "mimetype": "text/x-python",
   "name": "python",
   "nbconvert_exporter": "python",
   "pygments_lexer": "ipython3",
   "version": "3.12.7"
  }
 },
 "nbformat": 4,
 "nbformat_minor": 5
}
