{
 "cells": [
  {
   "cell_type": "code",
   "execution_count": 1,
   "id": "4e2103a7-a1c9-4145-983c-fd8954481d85",
   "metadata": {},
   "outputs": [
    {
     "name": "stdin",
     "output_type": "stream",
     "text": [
      "Enter Your Name:  Sudhir\n"
     ]
    },
    {
     "name": "stdout",
     "output_type": "stream",
     "text": [
      "Hello, Sudhir\n"
     ]
    }
   ],
   "source": [
    "# Q.1. Take input for your name and print “Hello, <name>”.\n",
    "name = input(\"Enter Your Name: \")\n",
    "print(\"Hello,\",name)"
   ]
  },
  {
   "cell_type": "code",
   "execution_count": 2,
   "id": "b65ce4ca-a293-4af7-8506-89eced4897dd",
   "metadata": {},
   "outputs": [
    {
     "name": "stdin",
     "output_type": "stream",
     "text": [
      "Enter First Number:  15\n",
      "Enter Second Number:  20\n"
     ]
    },
    {
     "name": "stdout",
     "output_type": "stream",
     "text": [
      "The Sum of a & b is 35\n"
     ]
    }
   ],
   "source": [
    "# Q.2.Take two numbers as input and print their sum.\n",
    "a = int(input(\"Enter First Number: \"))\n",
    "b = int(input(\"Enter Second Number: \"))\n",
    "print(\"The Sum of a & b is\", a+b)"
   ]
  },
  {
   "cell_type": "code",
   "execution_count": 3,
   "id": "b64ecddd-51ea-4c1a-8238-ca60cfa01342",
   "metadata": {},
   "outputs": [
    {
     "name": "stdin",
     "output_type": "stream",
     "text": [
      "Enter Your age:  31\n"
     ]
    },
    {
     "name": "stdout",
     "output_type": "stream",
     "text": [
      "You are 31 years old\n"
     ]
    }
   ],
   "source": [
    "# Q.3. Take input for your age and print “You are X years old”.\n",
    "age = input(\"Enter Your age: \")\n",
    "print(\"You are\", age,\"years old\")"
   ]
  },
  {
   "cell_type": "code",
   "execution_count": 4,
   "id": "8ac762e0-9a25-4496-aaab-232cf326c7df",
   "metadata": {},
   "outputs": [
    {
     "name": "stdin",
     "output_type": "stream",
     "text": [
      "Enter Your city:  Sangli\n",
      "Enter Your State:  Maharashtra\n"
     ]
    },
    {
     "name": "stdout",
     "output_type": "stream",
     "text": [
      "Sangli , Maharashtra\n"
     ]
    }
   ],
   "source": [
    "# Q.4. Take input for your city and state, then print them in one line.\n",
    "city = input(\"Enter Your city: \")\n",
    "state = input(\"Enter Your State: \")\n",
    "print(city,\",\",state)"
   ]
  },
  {
   "cell_type": "code",
   "execution_count": 5,
   "id": "685e66b2-df42-46af-b40d-c4abb45ba8d5",
   "metadata": {},
   "outputs": [
    {
     "name": "stdin",
     "output_type": "stream",
     "text": [
      "Enter a Number:  5\n"
     ]
    },
    {
     "name": "stdout",
     "output_type": "stream",
     "text": [
      "The Number is Positive\n"
     ]
    }
   ],
   "source": [
    "# Q.5. Take a number as input and print whether it is positive or negative.\n",
    "number = float(input(\"Enter a Number: \"))\n",
    "\n",
    "if number > 0:\n",
    "    print(\"The Number is Positive\")\n",
    "elif number < 0:\n",
    "    print(\"The Number is Negative\")\n",
    "else:\n",
    "    print(\"The Number is Zero\" )"
   ]
  },
  {
   "cell_type": "code",
   "execution_count": 6,
   "id": "8996ca92-9e22-4939-9fc5-96997afbe877",
   "metadata": {},
   "outputs": [
    {
     "name": "stdin",
     "output_type": "stream",
     "text": [
      "Enter first input:  10\n",
      "Enter second input:  20\n"
     ]
    },
    {
     "name": "stdout",
     "output_type": "stream",
     "text": [
      "First Input is: 20 and Second Input is: 10\n"
     ]
    }
   ],
   "source": [
    "# Q.6. Take two inputs and print them swapped.\n",
    "a = input(\"Enter first input: \")\n",
    "b = input(\"Enter second input: \")\n",
    "\n",
    "temp = a\n",
    "a = b\n",
    "b = temp\n",
    "print(\"First Input is:\",a,\"and\",\"Second Input is:\",b)"
   ]
  },
  {
   "cell_type": "code",
   "execution_count": 7,
   "id": "2df8da7a-7346-4867-90bf-edca23aa2f05",
   "metadata": {},
   "outputs": [
    {
     "name": "stdin",
     "output_type": "stream",
     "text": [
      "Enter Your Birth Year:  1993\n"
     ]
    },
    {
     "name": "stdout",
     "output_type": "stream",
     "text": [
      "Your age is 32 years old.\n"
     ]
    }
   ],
   "source": [
    "# Q.7. Take input for your birth year and calculate your age.\n",
    "birth_year = int(input(\"Enter Your Birth Year: \"))\n",
    "current_year = 2025\n",
    "\n",
    "print(\"Your age is\",current_year - birth_year,\"years old.\")"
   ]
  },
  {
   "cell_type": "code",
   "execution_count": 8,
   "id": "d0066414-f8a1-4c62-87c0-2811e75ce13b",
   "metadata": {},
   "outputs": [
    {
     "name": "stdin",
     "output_type": "stream",
     "text": [
      "Enter Your Favourite Color:  Black\n"
     ]
    },
    {
     "name": "stdout",
     "output_type": "stream",
     "text": [
      "I like Black too!\n"
     ]
    }
   ],
   "source": [
    "# Q.8. Take input for your favorite color and print “I like X too!”.\n",
    "color = input(\"Enter Your Favourite Color: \")\n",
    "print(\"I like\",color,\"too!\")"
   ]
  },
  {
   "cell_type": "code",
   "execution_count": 9,
   "id": "dc4ec9b3-514d-4c6c-b464-038373cd5d5a",
   "metadata": {},
   "outputs": [
    {
     "name": "stdin",
     "output_type": "stream",
     "text": [
      "Enter Your First Number:  15\n",
      "Enter Your Second Number:  8\n"
     ]
    },
    {
     "name": "stdout",
     "output_type": "stream",
     "text": [
      "The product of two number is: 120\n"
     ]
    }
   ],
   "source": [
    "# Q.9. Take two numbers as input and print their product.\n",
    "a = int(input(\"Enter Your First Number: \"))\n",
    "b = int(input(\"Enter Your Second Number: \"))\n",
    "\n",
    "print(\"The product of two number is:\",a*b)"
   ]
  },
  {
   "cell_type": "code",
   "execution_count": 10,
   "id": "1e3cd4d8-d6f8-4cff-92d7-0b109446727a",
   "metadata": {},
   "outputs": [
    {
     "name": "stdin",
     "output_type": "stream",
     "text": [
      "Enter Your Marks:  85\n"
     ]
    },
    {
     "name": "stdout",
     "output_type": "stream",
     "text": [
      "You scored 85 marks.\n"
     ]
    }
   ],
   "source": [
    "# Q.10. Take input for your marks and print “You scored X marks”.\n",
    "marks = input(\"Enter Your Marks: \")\n",
    "print(\"You scored\",marks,\"marks.\")"
   ]
  }
 ],
 "metadata": {
  "kernelspec": {
   "display_name": "Python 3 (ipykernel)",
   "language": "python",
   "name": "python3"
  },
  "language_info": {
   "codemirror_mode": {
    "name": "ipython",
    "version": 3
   },
   "file_extension": ".py",
   "mimetype": "text/x-python",
   "name": "python",
   "nbconvert_exporter": "python",
   "pygments_lexer": "ipython3",
   "version": "3.12.7"
  }
 },
 "nbformat": 4,
 "nbformat_minor": 5
}
