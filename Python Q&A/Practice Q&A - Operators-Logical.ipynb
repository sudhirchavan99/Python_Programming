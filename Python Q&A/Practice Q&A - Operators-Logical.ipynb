{
 "cells": [
  {
   "cell_type": "code",
   "execution_count": 1,
   "id": "3169052f-ed5f-4b8d-a1db-138ab6d67720",
   "metadata": {},
   "outputs": [
    {
     "name": "stdout",
     "output_type": "stream",
     "text": [
      "True\n"
     ]
    }
   ],
   "source": [
    "# Q.1. Check if 5 > 3 and 10 > 5.\n",
    "print(5>3 and 10>5)"
   ]
  },
  {
   "cell_type": "code",
   "execution_count": 2,
   "id": "a9dab783-2f8c-4d4b-90db-bfa69ee78964",
   "metadata": {},
   "outputs": [
    {
     "name": "stdout",
     "output_type": "stream",
     "text": [
      "True\n"
     ]
    }
   ],
   "source": [
    "# Q.2. Check if 5 > 3 or 2 > 10.\n",
    "print(5>3 or 2>10)"
   ]
  },
  {
   "cell_type": "code",
   "execution_count": 3,
   "id": "f95d0a8e-400d-4144-9c9b-499a9d915f12",
   "metadata": {},
   "outputs": [
    {
     "name": "stdin",
     "output_type": "stream",
     "text": [
      "Enter a number:  12\n"
     ]
    },
    {
     "name": "stdout",
     "output_type": "stream",
     "text": [
      "The number is lies between 10 and 20\n"
     ]
    }
   ],
   "source": [
    "# Q.3. Input a number and check if it lies between 10 and 20.\n",
    "num = float(input(\"Enter a number: \"))\n",
    "if num <= 20 and num >= 10:\n",
    "    print(\"The number is lies between 10 and 20\")\n",
    "else:\n",
    "    print(\"The number is not lies between 10 and 20\")"
   ]
  },
  {
   "cell_type": "code",
   "execution_count": 4,
   "id": "75d28af4-1aa0-48cd-820b-b9b2f490014a",
   "metadata": {},
   "outputs": [
    {
     "name": "stdin",
     "output_type": "stream",
     "text": [
      "Enter a number:  12\n"
     ]
    },
    {
     "name": "stdout",
     "output_type": "stream",
     "text": [
      "The number is divisible by 2 and 3\n"
     ]
    }
   ],
   "source": [
    "# Q.4. Check if a number is divisible by both 2 and 3.\n",
    "num = int(input(\"Enter a number: \"))\n",
    "if (num % 2)==0 and (num % 3)==0:\n",
    "    print(\"The number is divisible by 2 and 3\")\n",
    "else:\n",
    "    print(\"The number is not divisible by 2 and 3\")"
   ]
  },
  {
   "cell_type": "code",
   "execution_count": 5,
   "id": "acea5999-f9a7-4df3-83e5-d6950137e33d",
   "metadata": {},
   "outputs": [
    {
     "name": "stdout",
     "output_type": "stream",
     "text": [
      "True\n"
     ]
    }
   ],
   "source": [
    "# Q.5. Check if not(10 > 20).\n",
    "result = not(10>20)\n",
    "print(result)"
   ]
  },
  {
   "cell_type": "code",
   "execution_count": 6,
   "id": "c5fb7aa7-a9d5-4325-b3a3-ad14cee12d78",
   "metadata": {},
   "outputs": [
    {
     "name": "stdin",
     "output_type": "stream",
     "text": [
      "Enter a number:  5\n"
     ]
    },
    {
     "name": "stdout",
     "output_type": "stream",
     "text": [
      "The number is Positive.\n"
     ]
    }
   ],
   "source": [
    "# Q.6. Check if a number is positive or zero.\n",
    "num = int(input(\"Enter a number: \"))\n",
    "\n",
    "if num > 0 and not(num < 0): \n",
    "    print(\"The number is Positive.\")\n",
    "elif not(num == 0):\n",
    "    print(\"The number is Negative\")\n",
    "else:\n",
    "    print(\"The number is zero.\")"
   ]
  },
  {
   "cell_type": "code",
   "execution_count": 7,
   "id": "e6343b14-a45a-46d0-93d6-e3fafd3f5267",
   "metadata": {},
   "outputs": [
    {
     "name": "stdin",
     "output_type": "stream",
     "text": [
      "Enter Your age:  25\n"
     ]
    },
    {
     "name": "stdout",
     "output_type": "stream",
     "text": [
      "Your age is above 18 and less than 60.\n"
     ]
    }
   ],
   "source": [
    "# Q.7. Check if age is above 18 and less than 60.\n",
    "age = int(input(\"Enter Your age: \"))\n",
    "\n",
    "if age > 18 and age < 60:\n",
    "    print(\"Your age is above 18 and less than 60.\")\n",
    "else:\n",
    "    print(\"Your age is not above 18 and less than 60.\")"
   ]
  },
  {
   "cell_type": "code",
   "execution_count": 8,
   "id": "a39a2b62-82d5-4595-b1d3-e39f7dc7bf74",
   "metadata": {},
   "outputs": [
    {
     "name": "stdin",
     "output_type": "stream",
     "text": [
      "Enter first input:  10\n",
      "Enter second input:  10\n"
     ]
    },
    {
     "name": "stdout",
     "output_type": "stream",
     "text": [
      "True\n"
     ]
    }
   ],
   "source": [
    "# Q.8. Check if two inputs are both True.\n",
    "x = int(input(\"Enter first input: \"))\n",
    "y = int(input(\"Enter second input: \"))\n",
    "\n",
    "print(x==y)"
   ]
  },
  {
   "cell_type": "code",
   "execution_count": 9,
   "id": "9166d299-5f59-4533-9e3a-6a76e3255ab4",
   "metadata": {},
   "outputs": [
    {
     "name": "stdout",
     "output_type": "stream",
     "text": [
      "True\n"
     ]
    }
   ],
   "source": [
    "# Q.9. Check if at least one condition is True.\n",
    "a = True\n",
    "b = False\n",
    "\n",
    "print(a or b)"
   ]
  },
  {
   "cell_type": "code",
   "execution_count": 10,
   "id": "81fe005b-d5e8-486b-ae56-8177db2c8ff7",
   "metadata": {},
   "outputs": [
    {
     "name": "stdout",
     "output_type": "stream",
     "text": [
      "False\n"
     ]
    }
   ],
   "source": [
    "# Q.10. Reverse the result of a condition using not.\n",
    "x = 5\n",
    "print(not x)"
   ]
  }
 ],
 "metadata": {
  "kernelspec": {
   "display_name": "Python 3 (ipykernel)",
   "language": "python",
   "name": "python3"
  },
  "language_info": {
   "codemirror_mode": {
    "name": "ipython",
    "version": 3
   },
   "file_extension": ".py",
   "mimetype": "text/x-python",
   "name": "python",
   "nbconvert_exporter": "python",
   "pygments_lexer": "ipython3",
   "version": "3.12.7"
  }
 },
 "nbformat": 4,
 "nbformat_minor": 5
}
